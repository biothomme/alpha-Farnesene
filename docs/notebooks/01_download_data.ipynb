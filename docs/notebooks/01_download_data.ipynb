{
 "cells": [
  {
   "cell_type": "code",
   "execution_count": 1,
   "id": "e226112f-aa8c-4521-befe-81b90ab9b82e",
   "metadata": {},
   "outputs": [
    {
     "name": "stdout",
     "output_type": "stream",
     "text": [
      "3.8.10 (default, May 19 2021, 11:01:55) \n",
      "[Clang 10.0.0 ]\n",
      "Pretty printing has been turned OFF\n"
     ]
    }
   ],
   "source": [
    "# Check if python is 3.9.5\n",
    "import arrow\n",
    "import csv\n",
    "import numpy as np\n",
    "import os\n",
    "import pandas as pd\n",
    "import sys\n",
    "import __init__\n",
    "\n",
    "print(sys.version)\n",
    "%load_ext autoreload\n",
    "%autoreload 2\n",
    "%pprint"
   ]
  },
  {
   "cell_type": "code",
   "execution_count": null,
   "id": "fe8274d7-080e-4458-b00c-5d65b2bf25f6",
   "metadata": {},
   "outputs": [],
   "source": [
    "from euro_med_request import EuroMedSpeciesFetcher\n",
    "from euro_med_request import EuroMedDistributionFetcher\n",
    "from bgci_request import BGCIFromEuroMedMultiFetcher\n",
    "from iucn_redlist_request import RedListMultiFetcher"
   ]
  },
  {
   "cell_type": "markdown",
   "id": "b2fbe558-9752-4a23-a236-c25aa6193399",
   "metadata": {},
   "source": [
    "# Download all european plant species (and subspecies)"
   ]
  },
  {
   "cell_type": "markdown",
   "id": "d50f9880-ab83-4d79-aeee-472c595b6626",
   "metadata": {},
   "source": [
    "At first we download all species of the Euro+Med plant database. This includes native/introduced plants of the European + circum-Mediterranean region."
   ]
  },
  {
   "cell_type": "code",
   "execution_count": null,
   "id": "3c142155-5cfc-4315-8f01-7a2d6c24502c",
   "metadata": {
    "scrolled": true,
    "tags": []
   },
   "outputs": [],
   "source": [
    "parent_of_all_plants_txid = \"4a889e6c-9816-4745-9d06-146969da30c0\"\n",
    "\n",
    "sf = EuroMedSpeciesFetcher(parent_of_all_plants_txid)"
   ]
  },
  {
   "cell_type": "code",
   "execution_count": null,
   "id": "6f4cab20-2025-4025-9098-aa87ed753b46",
   "metadata": {},
   "outputs": [],
   "source": [
    "eur_plants_csv_file = \"../../cache/euro_med_plant_list.csv\""
   ]
  },
  {
   "cell_type": "code",
   "execution_count": null,
   "id": "55261ca2-527f-4dab-a244-83943b3967b8",
   "metadata": {},
   "outputs": [],
   "source": [
    "sf.fetch_all(eur_plants_csv_file, force=False, extend=False)"
   ]
  },
  {
   "cell_type": "markdown",
   "id": "999ca039-1ff5-43c1-ba47-3c4072ea0a36",
   "metadata": {},
   "source": [
    "# Compare to list of species in botanic gardens"
   ]
  },
  {
   "cell_type": "markdown",
   "id": "1ea7dc50-64a8-4fbc-b422-475543b8d065",
   "metadata": {},
   "source": [
    "This list can be used to fetch against the catalog of plants cultivated in botanic gardens worldwide."
   ]
  },
  {
   "cell_type": "code",
   "execution_count": null,
   "id": "c412e17b-6a22-429d-8b8d-cdb5adcd8a71",
   "metadata": {},
   "outputs": [],
   "source": [
    "bgci_csvfile = \"../../cache/bgci_species_europe.csv\"\n",
    "bgmf = BGCIFromEuroMedMultiFetcher(eur_plants_csv_file)"
   ]
  },
  {
   "cell_type": "code",
   "execution_count": null,
   "id": "fb2757d7-9ec7-442e-827e-f29a0453bacc",
   "metadata": {},
   "outputs": [],
   "source": [
    "bgmf.fetch_all(bgci_csvfile, force=False)"
   ]
  },
  {
   "cell_type": "markdown",
   "id": "04939c6a-5325-4d3c-917f-4171b80f37a7",
   "metadata": {},
   "source": [
    "# Get distribution data"
   ]
  },
  {
   "cell_type": "markdown",
   "id": "3ebd9ca4-5fca-4d03-9452-7f40e673f111",
   "metadata": {},
   "source": [
    "For the subset of species that are both (in Euro+Med, as well as in BGCI database), we download the distribution data. As a source Euro+Med can be used."
   ]
  },
  {
   "cell_type": "code",
   "execution_count": null,
   "id": "43f670cd-cfa4-465b-a873-82563b2aca50",
   "metadata": {},
   "outputs": [],
   "source": [
    "em_dist_csvfile = \"../../cache/euro_med_distribution.csv\"\n",
    "emdf = EuroMedDistributionFetcher(bgci_csvfile)"
   ]
  },
  {
   "cell_type": "code",
   "execution_count": null,
   "id": "76332225-e29f-42d3-8a01-0bff2aa8bc98",
   "metadata": {},
   "outputs": [],
   "source": [
    "emdf.fetch_all(\"distribution.csv\", force=False, extend=True, skip_existing=True)"
   ]
  },
  {
   "cell_type": "markdown",
   "id": "4fadaec8-f6e4-4cd5-a342-a4a1b65bc3c8",
   "metadata": {},
   "source": [
    "# Get red list data"
   ]
  },
  {
   "cell_type": "markdown",
   "id": "5100bf87-5264-4271-af8f-d40cc3ef3229",
   "metadata": {},
   "source": [
    "Now, it would be very good to have information about the threat status of such species. Therefore, we use the IUCN red list."
   ]
  },
  {
   "cell_type": "code",
   "execution_count": null,
   "id": "89832a75-8724-4965-a74e-3da0ae9dd15e",
   "metadata": {
    "scrolled": true,
    "tags": []
   },
   "outputs": [],
   "source": [
    "red_list_csv = \"../../cache/red_list_european_plants.csv\"\n",
    "rlmf = RedListMultiFetcher(eur_plants_csv_file, bgci_csvfile)"
   ]
  },
  {
   "cell_type": "code",
   "execution_count": null,
   "id": "17929b45-744c-4e06-9e7d-2c967aae148f",
   "metadata": {
    "scrolled": true,
    "tags": []
   },
   "outputs": [],
   "source": [
    "rlmf.fetch_all(red_list_csv, force=False, extend=False)"
   ]
  },
  {
   "cell_type": "markdown",
   "id": "ab87e9f1-9776-456b-b1bb-fa9f94e42ff6",
   "metadata": {},
   "source": [
    "---\n",
    "# Analyze it!\n",
    "Great, all the data is downloaded. [Let's see](./02_rare_european_plants_in_collections.ipynb), if we can observe patterns ;-)"
   ]
  },
  {
   "cell_type": "code",
   "execution_count": null,
   "id": "5785dd37-528f-4ebc-a31f-cf7f335b6f1e",
   "metadata": {},
   "outputs": [],
   "source": []
  }
 ],
 "metadata": {
  "kernelspec": {
   "display_name": "Python 3",
   "language": "python",
   "name": "python3"
  },
  "language_info": {
   "codemirror_mode": {
    "name": "ipython",
    "version": 3
   },
   "file_extension": ".py",
   "mimetype": "text/x-python",
   "name": "python",
   "nbconvert_exporter": "python",
   "pygments_lexer": "ipython3",
   "version": "3.8.10"
  }
 },
 "nbformat": 4,
 "nbformat_minor": 5
}
